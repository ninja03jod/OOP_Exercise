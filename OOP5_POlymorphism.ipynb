{
  "nbformat": 4,
  "nbformat_minor": 0,
  "metadata": {
    "colab": {
      "provenance": [],
      "authorship_tag": "ABX9TyMRc424GdLDePJGYYmy+tcF",
      "include_colab_link": true
    },
    "kernelspec": {
      "name": "python3",
      "display_name": "Python 3"
    },
    "language_info": {
      "name": "python"
    }
  },
  "cells": [
    {
      "cell_type": "markdown",
      "metadata": {
        "id": "view-in-github",
        "colab_type": "text"
      },
      "source": [
        "<a href=\"https://colab.research.google.com/github/ninja03jod/OOP_Exercise/blob/main/OOP5_POlymorphism.ipynb\" target=\"_parent\"><img src=\"https://colab.research.google.com/assets/colab-badge.svg\" alt=\"Open In Colab\"/></a>"
      ]
    },
    {
      "cell_type": "code",
      "execution_count": null,
      "metadata": {
        "id": "I-8cW4HC87EG"
      },
      "outputs": [],
      "source": [
        "\"\"\"\n",
        "polymorphism: poly(many) + morphs(forms)\n",
        "one enitity shows multile behaviours then it is polymorhism\n",
        "polymorhism leads to overloading concepts\n",
        "\"\"\""
      ]
    },
    {
      "cell_type": "code",
      "source": [
        "# method overloading:\n",
        "# In python method overloading is ability to define multiple methods with same name but different parameters\n",
        "# python does not support method overloading bydefault, we can access different parameters by var lentgh args\n",
        "# python takes only last recent call if we are implementing method overloading\n",
        "# ex.\n",
        "class Test:\n",
        "  def m1(self,*a):\n",
        "    print(a)\n",
        "t = Test()\n",
        "t.m1()\n",
        "t.m1(5,6.5)\n",
        "t.m1(5+3,6+4.5)"
      ],
      "metadata": {
        "colab": {
          "base_uri": "https://localhost:8080/"
        },
        "id": "3wBlxvUp9W6L",
        "outputId": "fe2c3715-7aea-41d9-fd9f-c344d0247bd6"
      },
      "execution_count": 1,
      "outputs": [
        {
          "output_type": "stream",
          "name": "stdout",
          "text": [
            "()\n",
            "(5, 6.5)\n",
            "(8, 10.5)\n"
          ]
        }
      ]
    },
    {
      "cell_type": "code",
      "source": [
        "# constructor overloading:\n",
        "# it is same of that method\n",
        "class Test:\n",
        "  def __init__(self,*a):\n",
        "      print(a)\n",
        "\n",
        "Test()\n",
        "Test(7,6.5)\n",
        "Test(5*3,5+8)"
      ],
      "metadata": {
        "colab": {
          "base_uri": "https://localhost:8080/"
        },
        "id": "8N47GtKg-ay_",
        "outputId": "ea17e26f-5060-4da7-cf0a-fc86da743dc7"
      },
      "execution_count": 2,
      "outputs": [
        {
          "output_type": "stream",
          "name": "stdout",
          "text": [
            "()\n",
            "(7, 6.5)\n",
            "(15, 13)\n"
          ]
        },
        {
          "output_type": "execute_result",
          "data": {
            "text/plain": [
              "<__main__.Test at 0x7fc57cfe1c00>"
            ]
          },
          "metadata": {},
          "execution_count": 2
        }
      ]
    },
    {
      "cell_type": "code",
      "source": [
        "# operator overloading:\n",
        "print(4+5)\n",
        "print('4'+'5')\n",
        "# operator are same and it has method also which is hidden and the method is\n",
        "# we r using + operator so def __add__(self) this will be the method\n",
        "# So, the methods are same name but different args means behaviour would be different"
      ],
      "metadata": {
        "colab": {
          "base_uri": "https://localhost:8080/"
        },
        "id": "_aHU8iWm_1b4",
        "outputId": "e1d3a8fa-f254-476b-9ea6-2a4edae7369c"
      },
      "execution_count": 3,
      "outputs": [
        {
          "output_type": "stream",
          "name": "stdout",
          "text": [
            "9\n",
            "45\n"
          ]
        }
      ]
    },
    {
      "cell_type": "code",
      "source": [
        "print(4*3)\n",
        "print('4'*3)"
      ],
      "metadata": {
        "colab": {
          "base_uri": "https://localhost:8080/"
        },
        "id": "chqsbhMhAiTz",
        "outputId": "094e6883-985a-4c15-fcb7-012fce02a23b"
      },
      "execution_count": 4,
      "outputs": [
        {
          "output_type": "stream",
          "name": "stdout",
          "text": [
            "12\n",
            "444\n"
          ]
        }
      ]
    }
  ]
}