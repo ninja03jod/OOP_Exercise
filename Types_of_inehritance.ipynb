{
  "nbformat": 4,
  "nbformat_minor": 0,
  "metadata": {
    "colab": {
      "provenance": [],
      "authorship_tag": "ABX9TyMaTsMR1Fr05VFb6tdszQdM",
      "include_colab_link": true
    },
    "kernelspec": {
      "name": "python3",
      "display_name": "Python 3"
    },
    "language_info": {
      "name": "python"
    }
  },
  "cells": [
    {
      "cell_type": "markdown",
      "metadata": {
        "id": "view-in-github",
        "colab_type": "text"
      },
      "source": [
        "<a href=\"https://colab.research.google.com/github/ninja03jod/OOP_Exercise/blob/main/Types_of_inehritance.ipynb\" target=\"_parent\"><img src=\"https://colab.research.google.com/assets/colab-badge.svg\" alt=\"Open In Colab\"/></a>"
      ]
    },
    {
      "cell_type": "code",
      "execution_count": null,
      "metadata": {
        "id": "cNoRDzSP7Par"
      },
      "outputs": [],
      "source": [
        "\"\"\"\n",
        "Inheritance: A mechanism which builds a relation among the classes\n",
        "- A class which being inherited is a parent class and\n",
        "class which inherits is a child class\n",
        "\"\"\""
      ]
    },
    {
      "cell_type": "code",
      "source": [
        "# Types of Inehritance:\n",
        "# 1) simple inheritance: 1 parent and 1 child\n",
        "class Father:\n",
        "  def car(self):\n",
        "    print('fathers car')\n",
        "class child(Father):\n",
        "  pass\n",
        "c = child()\n",
        "c.car()"
      ],
      "metadata": {
        "colab": {
          "base_uri": "https://localhost:8080/"
        },
        "id": "3JhDM2Rq7_Vr",
        "outputId": "7fc431d9-ece7-4be8-abb3-64d1d126d5b7"
      },
      "execution_count": null,
      "outputs": [
        {
          "output_type": "stream",
          "name": "stdout",
          "text": [
            "fathers car\n"
          ]
        }
      ]
    },
    {
      "cell_type": "code",
      "source": [
        "# 2) multileve inheritance: super super parent <-- super parent <-- parent <-- child\n",
        "class grandfather:\n",
        "  def money(self):\n",
        "    print('grandpas money')\n",
        "class father(grandfather):\n",
        "  pass\n",
        "class child(father):\n",
        "  pass\n",
        "\n",
        "c = child()\n",
        "c.money()\n",
        "\n",
        "#-------------------------------------------\n",
        "\n",
        "class grandfather:\n",
        "  def money(self):\n",
        "    print('grandpas money')\n",
        "class father(grandfather):\n",
        "  def money(self):\n",
        "    print('fathers money')\n",
        "class child(father):\n",
        "  pass\n",
        "\n",
        "c = child()\n",
        "c.money()\n",
        "\n",
        "#--------------------------------------------\n",
        "\n",
        "class grandfather:\n",
        "  def money(self):\n",
        "    print('grandpas money')\n",
        "class father(grandfather):\n",
        "  def money(self):\n",
        "    super().money()\n",
        "    print('fathers money')\n",
        "  def car(self):\n",
        "    print('fathers car')\n",
        "class child(father):\n",
        "  pass\n",
        "\n",
        "c = child()\n",
        "c.money()\n",
        "c.car()"
      ],
      "metadata": {
        "colab": {
          "base_uri": "https://localhost:8080/"
        },
        "id": "Zo0YgEYU8s7U",
        "outputId": "9b425a8e-8ef1-42a2-99ee-bdaac4a2d0df"
      },
      "execution_count": null,
      "outputs": [
        {
          "output_type": "stream",
          "name": "stdout",
          "text": [
            "grandpas money\n",
            "fathers money\n",
            "grandpas money\n",
            "fathers money\n",
            "fathers car\n"
          ]
        }
      ]
    },
    {
      "cell_type": "code",
      "source": [
        "# method overriding:\n",
        "# when a parent and child class has same method bt with different args is method overriding\n",
        "# Method in parent overridden method in child\n",
        "# method in child overrides method in parent\n",
        "class Animal:\n",
        "  def speak(self):\n",
        "    print('Animal speaks')\n",
        "class dog(Animal):\n",
        "  def speak(self):\n",
        "    print('dog barks')\n",
        "class cat(dog):\n",
        "  def speak(self):\n",
        "    print('cat meows')\n",
        "\n",
        "c = cat()\n",
        "c.speak()\n",
        "\n",
        "d = dog()\n",
        "d.speak()\n",
        "\n",
        "a = Animal()\n",
        "a.speak()\n",
        "#--------------------------------------\n",
        "\n",
        "class Animal:\n",
        "  def speak(self):\n",
        "    print('Animal speaks')\n",
        "class dog(Animal):\n",
        "  def speak(self):\n",
        "    super().speak()\n",
        "    print('dog barks')\n",
        "class cat(dog):\n",
        "  def speak(self):\n",
        "    super().speak()\n",
        "    print('cat meows')\n",
        "\n",
        "c = cat()\n",
        "c.speak()\n",
        "\n",
        "d = dog()\n",
        "d.speak()\n",
        "\n",
        "a = Animal()\n",
        "a.speak()"
      ],
      "metadata": {
        "colab": {
          "base_uri": "https://localhost:8080/"
        },
        "id": "HJJkS2QY-r8N",
        "outputId": "dd616b83-f466-4e5f-8375-6ebe69322282"
      },
      "execution_count": null,
      "outputs": [
        {
          "output_type": "stream",
          "name": "stdout",
          "text": [
            "cat meows\n",
            "dog barks\n",
            "Animal speaks\n",
            "Animal speaks\n",
            "dog barks\n",
            "cat meows\n",
            "Animal speaks\n",
            "dog barks\n",
            "Animal speaks\n"
          ]
        }
      ]
    },
    {
      "cell_type": "code",
      "source": [
        "# method resolution order:\n",
        "# mro shows how parents are being accessed one after another\n",
        "class Animal:\n",
        "  def speak(self):\n",
        "    print('Animal speaks')\n",
        "class dog(Animal):\n",
        "  def speak(self):\n",
        "    super().speak()\n",
        "    print('dog barks')\n",
        "class cat(dog):\n",
        "  def speak(self):\n",
        "    super().speak()\n",
        "    print('cat meows')\n",
        "\n",
        "print(cat.mro())\n",
        "print(Animal.mro())"
      ],
      "metadata": {
        "colab": {
          "base_uri": "https://localhost:8080/"
        },
        "id": "ZMohHypMGc0a",
        "outputId": "f61664f2-5105-46cb-cf7b-3155dc77e2d4"
      },
      "execution_count": null,
      "outputs": [
        {
          "output_type": "stream",
          "name": "stdout",
          "text": [
            "[<class '__main__.cat'>, <class '__main__.dog'>, <class '__main__.Animal'>, <class 'object'>]\n",
            "[<class '__main__.Animal'>, <class 'object'>]\n"
          ]
        }
      ]
    },
    {
      "cell_type": "code",
      "source": [
        "# 3) multiple ineritance : 1 or more parent <-- 1 child\n",
        "class Eknathshinde:\n",
        "  def fund(self):\n",
        "    print('Eknath ji funds')\n",
        "class fadanvis:\n",
        "  def project(self):\n",
        "    print('New project')\n",
        "  def fund(self):\n",
        "    print('devendras funds')\n",
        "class Ajitpawar:\n",
        "  def fund(self):\n",
        "    print('pawars funds')\n",
        "class MLA(Ajitpawar,fadanvis,Eknathshinde):\n",
        "  pass\n",
        "m = MLA()\n",
        "m.project()\n",
        "m.fund()\n",
        "print(MLA.mro())"
      ],
      "metadata": {
        "id": "OGWmESUKJjG4",
        "colab": {
          "base_uri": "https://localhost:8080/"
        },
        "outputId": "c182965d-9a35-4feb-86fb-2a34bd89fd0c"
      },
      "execution_count": null,
      "outputs": [
        {
          "output_type": "stream",
          "name": "stdout",
          "text": [
            "New project\n",
            "pawars funds\n",
            "[<class '__main__.MLA'>, <class '__main__.Ajitpawar'>, <class '__main__.fadanvis'>, <class '__main__.Eknathshinde'>, <class 'object'>]\n"
          ]
        }
      ]
    },
    {
      "cell_type": "code",
      "source": [
        "class A:\n",
        "    pass\n",
        "class B:\n",
        "    pass\n",
        "class C:\n",
        "    pass\n",
        "class X(A,B):\n",
        "    pass\n",
        "class Y(B,C):\n",
        "    pass\n",
        "\n",
        "class D(X,Y):\n",
        "    pass\n",
        "\n",
        "print(D.mro())"
      ],
      "metadata": {
        "colab": {
          "base_uri": "https://localhost:8080/"
        },
        "id": "xMFrCfqnZH5O",
        "outputId": "eec2dd9a-8a11-4ce0-ed93-5d1e052f8473"
      },
      "execution_count": null,
      "outputs": [
        {
          "output_type": "stream",
          "name": "stdout",
          "text": [
            "[<class '__main__.D'>, <class '__main__.X'>, <class '__main__.A'>, <class '__main__.Y'>, <class '__main__.B'>, <class '__main__.C'>, <class 'object'>]\n"
          ]
        }
      ]
    },
    {
      "cell_type": "code",
      "source": [
        "# 4) hierarchical inheritance: 1 pranet <--- 2 child\n",
        "class Animal:\n",
        "  def speak(self):\n",
        "    print('Animal speaks')\n",
        "class Dog(Animal):\n",
        "  def sepak1(self):\n",
        "    print('dog barks')\n",
        "class Cat(Animal):\n",
        "  def speak2(self):\n",
        "    print('cat meows')\n",
        "\n",
        "d = Dog()\n",
        "d.speak()\n",
        "d.sepak1()\n",
        "\n",
        "print()\n",
        "c = Cat()\n",
        "c.speak()\n",
        "c.speak2()"
      ],
      "metadata": {
        "colab": {
          "base_uri": "https://localhost:8080/"
        },
        "id": "L7roO3o-Zhn0",
        "outputId": "effb861e-6e5d-49f7-bdfe-bf6aed6868af"
      },
      "execution_count": null,
      "outputs": [
        {
          "output_type": "stream",
          "name": "stdout",
          "text": [
            "Animal speaks\n",
            "dog barks\n",
            "\n",
            "Animal speaks\n",
            "cat meows\n"
          ]
        }
      ]
    },
    {
      "cell_type": "code",
      "source": [
        "# hybrid inheritance: Mixture or it can involves hierarchical,multilevel and multiple inheritance\n",
        "class Animal:\n",
        "  def speak(self):\n",
        "    print('animal speaks')\n",
        "class Dog:\n",
        "  def bark(self):\n",
        "    print('dog barks')\n",
        "class Mammal(Animal,Dog): # multiple inehritance\n",
        "  def prd_milk(self):\n",
        "    print('produces milk')\n",
        "class Cat(Mammal):\n",
        "  def meow(self):\n",
        "    print('cat meows')\n",
        "class Lion(Mammal): # hirearchical\n",
        "  def whore(Self):\n",
        "    print('lion whores')\n",
        "class call(Lion): # multilevel\n",
        "  pass\n",
        "class call2(Dog): # multilevel\n",
        "  pass\n",
        "c = call()\n",
        "c.prd_milk()\n",
        "c.bark()\n",
        "c.speak()\n",
        "c.whore()\n",
        "\n",
        "print()\n",
        "m = Mammal()\n",
        "m.speak()\n",
        "m.bark()\n",
        "m.prd_milk()\n",
        "\n",
        "print()\n",
        "c1 = call2()\n",
        "c1.bark()"
      ],
      "metadata": {
        "colab": {
          "base_uri": "https://localhost:8080/"
        },
        "id": "KMn50E4EciK2",
        "outputId": "5a06a48d-ac0d-409d-ebad-4839270be189"
      },
      "execution_count": null,
      "outputs": [
        {
          "output_type": "stream",
          "name": "stdout",
          "text": [
            "produces milk\n",
            "dog barks\n",
            "animal speaks\n",
            "lion whores\n",
            "\n",
            "animal speaks\n",
            "dog barks\n",
            "produces milk\n",
            "\n",
            "dog barks\n"
          ]
        }
      ]
    }
  ]
}